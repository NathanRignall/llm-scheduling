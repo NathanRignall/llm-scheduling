{
 "cells": [
  {
   "cell_type": "markdown",
   "id": "f76b7156",
   "metadata": {},
   "source": [
    "# Plots for Island Divider Scripts"
   ]
  },
  {
   "cell_type": "code",
   "execution_count": 1,
   "id": "4abe16ae",
   "metadata": {},
   "outputs": [],
   "source": [
    "# Import required dependencies\n",
    "import matplotlib.pyplot as plt\n",
    "import numpy as np\n",
    "import os\n",
    "import sys\n",
    "import pandas as pd\n",
    "\n",
    "# Add the parent directory to sys.path\n",
    "parent_dir = os.path.abspath(\"..\")\n",
    "sys.path.insert(0, parent_dir)\n",
    "\n",
    "# Import custom modules\n",
    "import divider\n",
    "\n",
    "# Configure matplotlib\n",
    "plt.rcParams.update({\n",
    "    \"pgf.texsystem\": \"pdflatex\",\n",
    "    'font.family': 'serif',\n",
    "    'text.usetex': True,\n",
    "    'pgf.rcfonts': False,\n",
    "})\n",
    "plt.rcParams['axes.prop_cycle'] = plt.cycler(color=plt.cm.Set1(np.linspace(0, 1, 10)))\n",
    "\n",
    "# constants\n",
    "FIGURE_SAVE_LOCATION = \"../data/figures/04design/\"\n",
    "FIGURE_PREFILE = \"divider_\""
   ]
  },
  {
   "cell_type": "code",
   "execution_count": null,
   "id": "e361d822",
   "metadata": {},
   "outputs": [
    {
     "data": {
      "image/png": "[encoded data removed]",
      "text/plain": [
       "<Figure size 1000x250 with 5 Axes>"
      ]
     },
     "metadata": {},
     "output_type": "display_data"
    }
   ],
   "source": [
    "def plot_skew_effects_overlay_chart(\n",
    "    total_gpus: int, \n",
    "    min_gpu_per_island_values: list[int], \n",
    "    num_islands_fixed: int, \n",
    "    skew_values_to_plot: list[float]\n",
    "):\n",
    "    num_skews = len(skew_values_to_plot)\n",
    "    fig, axes = plt.subplots(1, num_skews, figsize=(10, 2.5), sharey=True)\n",
    "    if num_skews == 1:\n",
    "        axes = [axes]\n",
    "\n",
    "    # Define colors for different min_gpu_per_island values\n",
    "    colors = plt.cm.Set1(np.linspace(0, 1, 10))\n",
    "    labels = []\n",
    "    bar_width = 0.8 / len(min_gpu_per_island_values)\n",
    "\n",
    "    for i, skew in enumerate(skew_values_to_plot):\n",
    "        for j, min_gpu_per_island in enumerate(min_gpu_per_island_values):\n",
    "            sizes = divider.island_divider(\n",
    "                total_gpus_for_type=total_gpus,\n",
    "                num_islands_target=num_islands_fixed,\n",
    "                size_distribution_skew_exponent=skew,\n",
    "                min_island_size=min_gpu_per_island\n",
    "            )\n",
    "            if not sizes:  # Should not happen if num_islands_fixed is reasonable\n",
    "                print(f\"Warning: No sizes generated for skew {skew} with {num_islands_fixed} islands and min {min_gpu_per_island}.\")\n",
    "                continue\n",
    "\n",
    "            island_indices = np.arange(len(sizes)) + j * bar_width - (len(min_gpu_per_island_values) - 1) * bar_width / 2\n",
    "            bar = axes[i].bar(\n",
    "                island_indices, sizes, \n",
    "                alpha=0.7, color=colors[j], width=bar_width\n",
    "            )\n",
    "            if i == 0:\n",
    "                labels.append((bar[0], f'Min {min_gpu_per_island} GPUs'))\n",
    "        \n",
    "        axes[i].set_title(f'Skew: {skew:.2f}')\n",
    "        axes[i].set_xlabel('Island Index')\n",
    "        if i == 0:\n",
    "            axes[i].set_ylabel('GPU Count')\n",
    "        axes[i].set_xticks(range(len(sizes)))\n",
    "        axes[i].grid(True, linestyle='--', alpha=0.7)\n",
    "\n",
    "    # Add a shared legend\n",
    "    handles, legend_labels = zip(*labels)\n",
    "    fig.legend(handles, legend_labels, loc='upper center', ncol=len(min_gpu_per_island_values), fontsize='small', bbox_to_anchor=(0.5, 1.05))\n",
    "\n",
    "    plt.tight_layout(rect=[0, 0, 1, 0.96])\n",
    "\n",
    "# Call the function with overlayed charts\n",
    "plot_skew_effects_overlay_chart(\n",
    "    total_gpus=100,\n",
    "    min_gpu_per_island_values=[5, 10, 15],\n",
    "    num_islands_fixed=5,\n",
    "    skew_values_to_plot=[-2.0, -1.0, 0.0, 1.0, 2.0]\n",
    ")\n",
    "plt.savefig(f\"{FIGURE_SAVE_LOCATION}{FIGURE_PREFILE}skew_effects_overlay_islands.pdf\", bbox_inches='tight')\n"
   ]
  }
 ],
 "metadata": {
  "kernelspec": {
   "display_name": "gpusim",
   "language": "python",
   "name": "python3"
  },
  "language_info": {
   "codemirror_mode": {
    "name": "ipython",
    "version": 3
   },
   "file_extension": ".py",
   "mimetype": "text/x-python",
   "name": "python",
   "nbconvert_exporter": "python",
   "pygments_lexer": "ipython3",
   "version": "3.12.9"
  }
 },
 "nbformat": 4,
 "nbformat_minor": 5
}
